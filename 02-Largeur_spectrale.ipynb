{
 "cells": [
  {
   "cell_type": "markdown",
   "metadata": {},
   "source": [
    "# Relation entre largeur spectrale et durée caractéristique d'un signal\n",
    "\n",
    "Ce code python permet de mettre en évidence la relation entre la durée caractéristique $\\Delta t$ d'un signal et sa largeur spectrale : $\\Delta \\omega$ si l'on s'intéresse aux pulsations ou $\\Delta f$ si l'on s'intéresse aux fréquences. Dans les deux cas, on retiendra la même relation approchée :\n",
    "\n",
    "$$\\Delta \\omega \\Delta t \\approx 1 \\qquad \\text{ou} \\qquad\\Delta f \\Delta t \\approx 1$$ "
   ]
  },
  {
   "cell_type": "code",
   "execution_count": 4,
   "metadata": {},
   "outputs": [],
   "source": [
    "%matplotlib inline\n",
    "# librairies pour l'interaction\n",
    "from ipywidgets import interact, interactive, fixed, interact_manual\n",
    "import ipywidgets as widgets"
   ]
  },
  {
   "cell_type": "code",
   "execution_count": 5,
   "metadata": {},
   "outputs": [],
   "source": [
    "# librairies scientifiques usuelles\n",
    "import numpy as np\n",
    "from scipy.signal import gausspulse\n",
    "from scipy import fftpack\n",
    "# graphiques\n",
    "import matplotlib.pyplot as plt"
   ]
  },
  {
   "cell_type": "markdown",
   "metadata": {},
   "source": [
    "Le code ci-dessous permet d'afficher une impulsion de fréquence `f`, par défaut 10 Hz et de durée variable, réglable avec le paramètre `p`.\n",
    "\n",
    "On constate que quelle que soit la durée de l'impulsion, on a toujours $\\Delta f \\Delta t \\approx 1$."
   ]
  },
  {
   "cell_type": "code",
   "execution_count": 7,
   "metadata": {},
   "outputs": [
    {
     "data": {
      "application/vnd.jupyter.widget-view+json": {
       "model_id": "92d25d1faa8b4a21a2b5b386e104c2d9",
       "version_major": 2,
       "version_minor": 0
      },
      "text/plain": [
       "interactive(children=(FloatSlider(value=0.505, description='p', max=1.0, min=0.01), Output()), _dom_classes=('…"
      ]
     },
     "metadata": {},
     "output_type": "display_data"
    },
    {
     "data": {
      "text/plain": [
       "<function __main__.graphique(p)>"
      ]
     },
     "execution_count": 7,
     "metadata": {},
     "output_type": "execute_result"
    }
   ],
   "source": [
    "# Il n'est pas nécessaire de comprendre ce code pour jouer avec le graphique.\n",
    "\n",
    "N = 1000 #  nombre de points d'échantillonnage\n",
    "tmax = 2 #  durée du signal\n",
    "\n",
    "t = np.linspace(-tmax, tmax, N)\n",
    "f = 12 #  fréquence centrale de l'impulsion\n",
    "\n",
    "def graphique(p):\n",
    "    \"\"\"Trace une impulsion de fréquence f et de largeur relative p ainsi que son spectre.\"\"\"\n",
    "    x = gausspulse(t, fc=f, bw=p)\n",
    "\n",
    "    # Calcul de la transformée de Fourier\n",
    "    F = fftpack.fft(x)\n",
    "\n",
    "    # Calcul des fréquences du spectre\n",
    "    freqs = fftpack.fftfreq(len(x), 2. * tmax / N)\n",
    "    \n",
    "    # Tracé des deux graphiques et des légendes\n",
    "    fig, (ax0, ax1) = plt.subplots(1, 2, figsize=(14,8))\n",
    "    \n",
    "    ax0.plot(t, x) # tracé du signal\n",
    "    ax0.set_ylim([-1.1, 1.1])\n",
    "    ax0.set_xlabel('t (s)')\n",
    "    ax0.set_ylabel('s(t)')\n",
    "    ax0.grid()\n",
    "\n",
    "    ax1.plot(freqs[:N//2], np.abs(F[:N//2])) # tracé du spectre\n",
    "    ax1.set_xlim([0, 2*f])\n",
    "    ax1.set_xlabel('f (Hz)')\n",
    "    ax1.set_ylabel('Amplitude')\n",
    "    ax1.grid()\n",
    "    \n",
    "    plt.show()\n",
    "    \n",
    "# Affichage de la règle qui pemet de faire varier p    \n",
    "interact(graphique,p=(0.01,1))"
   ]
  },
  {
   "cell_type": "code",
   "execution_count": null,
   "metadata": {
    "collapsed": true
   },
   "outputs": [],
   "source": []
  },
  {
   "cell_type": "code",
   "execution_count": null,
   "metadata": {
    "collapsed": true
   },
   "outputs": [],
   "source": []
  }
 ],
 "metadata": {
  "kernelspec": {
   "display_name": "Python 3",
   "language": "python",
   "name": "python3"
  },
  "language_info": {
   "codemirror_mode": {
    "name": "ipython",
    "version": 3
   },
   "file_extension": ".py",
   "mimetype": "text/x-python",
   "name": "python",
   "nbconvert_exporter": "python",
   "pygments_lexer": "ipython3",
   "version": "3.5.3"
  }
 },
 "nbformat": 4,
 "nbformat_minor": 2
}
